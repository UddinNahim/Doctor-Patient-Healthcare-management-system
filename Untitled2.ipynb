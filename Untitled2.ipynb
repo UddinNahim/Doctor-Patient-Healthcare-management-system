{
  "nbformat": 4,
  "nbformat_minor": 0,
  "metadata": {
    "colab": {
      "provenance": [],
      "authorship_tag": "ABX9TyPR/NKHJj168XeZ79IB7uL2",
      "include_colab_link": true
    },
    "kernelspec": {
      "name": "python3",
      "display_name": "Python 3"
    },
    "language_info": {
      "name": "python"
    }
  },
  "cells": [
    {
      "cell_type": "markdown",
      "metadata": {
        "id": "view-in-github",
        "colab_type": "text"
      },
      "source": [
        "<a href=\"https://colab.research.google.com/github/UddinNahim/Doctor-Patient-Healthcare-management-system/blob/main/Untitled2.ipynb\" target=\"_parent\"><img src=\"https://colab.research.google.com/assets/colab-badge.svg\" alt=\"Open In Colab\"/></a>"
      ]
    },
    {
      "cell_type": "code",
      "execution_count": null,
      "metadata": {
        "colab": {
          "base_uri": "https://localhost:8080/"
        },
        "id": "RVN2-NuyvgGx",
        "outputId": "8e18db03-ccdd-4df0-ce66-9e4f68641a2f"
      },
      "outputs": [
        {
          "output_type": "stream",
          "name": "stdout",
          "text": [
            "Enter the first integer: 2\n",
            "Enter the second integer: 5\n",
            "Enter the third integer: 8\n",
            "The largest number among 2, 5, and 8 is: 8\n"
          ]
        }
      ],
      "source": [
        "\n",
        "x = int(input(\"Enter the first integer: \"))\n",
        "y = int(input(\"Enter the second integer: \"))\n",
        "z = int(input(\"Enter the third integer: \"))\n",
        "\n",
        "# Find the largest number among x, y, and z\n",
        "largest = x\n",
        "\n",
        "if y > largest:\n",
        "    largest = y\n",
        "\n",
        "if z > largest:\n",
        "    largest = z\n",
        "\n",
        "# Print the result\n",
        "print(\"The largest number among {}, {}, and {} is: {}\".format(x, y, z, largest))\n"
      ]
    },
    {
      "cell_type": "code",
      "source": [
        "# Take input from the user\n",
        "marks = float(input(\"Enter the marks: \"))\n",
        "\n",
        "# Calculate grading based on the marks\n",
        "if marks >= 90:\n",
        "    grade = 'A+'\n",
        "elif marks >= 80:\n",
        "    grade = 'A'\n",
        "elif marks >= 70:\n",
        "    grade = 'B'\n",
        "elif marks >= 60:\n",
        "    grade = 'C'\n",
        "elif marks >= 50:\n",
        "    grade = 'D'\n",
        "else:\n",
        "    grade = 'F'\n",
        "\n",
        "# Print the result\n",
        "print(\"Grade: \", grade)\n"
      ],
      "metadata": {
        "colab": {
          "base_uri": "https://localhost:8080/"
        },
        "id": "9-K2Cf0fw3sv",
        "outputId": "235f19ec-2592-4a48-f168-0f6e66a67727"
      },
      "execution_count": null,
      "outputs": [
        {
          "output_type": "stream",
          "name": "stdout",
          "text": [
            "Enter the marks: 66\n",
            "Grade:  C\n"
          ]
        }
      ]
    }
  ]
}